{
 "cells": [
  {
   "cell_type": "code",
   "execution_count": 1,
   "outputs": [
    {
     "name": "stderr",
     "output_type": "stream",
     "text": [
      "2022-02-12 00:12:18.277349: W tensorflow/stream_executor/platform/default/dso_loader.cc:64] Could not load dynamic library 'libcudart.so.11.0'; dlerror: libcudart.so.11.0: cannot open shared object file: No such file or directory\n",
      "2022-02-12 00:12:18.277404: I tensorflow/stream_executor/cuda/cudart_stub.cc:29] Ignore above cudart dlerror if you do not have a GPU set up on your machine.\n"
     ]
    }
   ],
   "source": [
    "import os\n",
    "from src.modules.mnist_engine import MnistEngine"
   ],
   "metadata": {
    "collapsed": false,
    "pycharm": {
     "name": "#%%\n"
    }
   }
  },
  {
   "cell_type": "code",
   "execution_count": 2,
   "metadata": {
    "collapsed": true
   },
   "outputs": [
    {
     "name": "stdout",
     "output_type": "stream",
     "text": [
      "WARNING:tensorflow:No training configuration found in the save file, so the model was *not* compiled. Compile it manually.\n",
      "WARNING:tensorflow:No training configuration found in the save file, so the model was *not* compiled. Compile it manually.\n"
     ]
    },
    {
     "name": "stderr",
     "output_type": "stream",
     "text": [
      "2022-02-12 00:12:21.282348: W tensorflow/stream_executor/platform/default/dso_loader.cc:64] Could not load dynamic library 'libcuda.so.1'; dlerror: libcuda.so.1: cannot open shared object file: No such file or directory\n",
      "2022-02-12 00:12:21.282389: W tensorflow/stream_executor/cuda/cuda_driver.cc:269] failed call to cuInit: UNKNOWN ERROR (303)\n",
      "2022-02-12 00:12:21.282409: I tensorflow/stream_executor/cuda/cuda_diagnostics.cc:156] kernel driver does not appear to be running on this host (oussama-pc): /proc/driver/nvidia/version does not exist\n",
      "2022-02-12 00:12:21.282623: I tensorflow/core/platform/cpu_feature_guard.cc:151] This TensorFlow binary is optimized with oneAPI Deep Neural Network Library (oneDNN) to use the following CPU instructions in performance-critical operations:  AVX2 FMA\n",
      "To enable them in other operations, rebuild TensorFlow with the appropriate compiler flags.\n",
      "2022-02-12 00:12:21,792 - MNIST-ENGINE - INFO - Adding distance function to cassandra.\n"
     ]
    }
   ],
   "source": [
    "mnist_engine = MnistEngine(\n",
    "        os.path.join(os.getcwd(), '../src/models/mnist/encoder.h5'),\n",
    "        os.path.join(os.getcwd(), '../src/models/mnist/decoder.h5')\n",
    ")"
   ]
  },
  {
   "cell_type": "code",
   "execution_count": 3,
   "outputs": [],
   "source": [
    "session = mnist_engine.cassandra_session\n",
    "\n",
    "rows = list(session.execute('SELECT * FROM mnist.embeddings LIMIT 1'))"
   ],
   "metadata": {
    "collapsed": false,
    "pycharm": {
     "name": "#%%\n"
    }
   }
  },
  {
   "cell_type": "code",
   "execution_count": 4,
   "outputs": [],
   "source": [
    "import numpy as np\n",
    "\n",
    "rows = mnist_engine.get_neighbors(np.array(rows[0].embedding))"
   ],
   "metadata": {
    "collapsed": false,
    "pycharm": {
     "name": "#%%\n"
    }
   }
  },
  {
   "cell_type": "code",
   "execution_count": 5,
   "outputs": [],
   "source": [
    "img = mnist_engine.decode_images(np.array([np.array(rows[4])]))"
   ],
   "metadata": {
    "collapsed": false,
    "pycharm": {
     "name": "#%%\n"
    }
   }
  },
  {
   "cell_type": "code",
   "execution_count": 6,
   "outputs": [
    {
     "data": {
      "text/plain": "<Figure size 432x288 with 1 Axes>",
      "image/png": "[encoded data removed]"
     },
     "metadata": {
      "needs_background": "light"
     },
     "output_type": "display_data"
    }
   ],
   "source": [
    "import matplotlib.pyplot as plt\n",
    "\n",
    "plt.imshow(img[0].reshape(28, 28))\n",
    "plt.gray()"
   ],
   "metadata": {
    "collapsed": false,
    "pycharm": {
     "name": "#%%\n"
    }
   }
  },
  {
   "cell_type": "code",
   "execution_count": 7,
   "outputs": [],
   "source": [
    "plt.imsave('test.png', img[0].reshape(28, 28))"
   ],
   "metadata": {
    "collapsed": false,
    "pycharm": {
     "name": "#%%\n"
    }
   }
  },
  {
   "cell_type": "code",
   "execution_count": 11,
   "outputs": [
    {
     "data": {
      "text/plain": "(True,\n array([137,  80,  78,  71,  13,  10,  26,  10,   0,   0,   0,  13,  73,\n         72,  68,  82,   0,   0,   0,  28,   0,   0,   0,  28,   8,   0,\n          0,   0,   0,  87, 102, 128,  72,   0,   0,   0, 121,  73,  68,\n         65,  84,  40,  21, 125, 193, 135, 109, 196,  64,  16,   0,  49,\n         78, 255,  69, 175,  21,  94,   9,  48, 142, 204,  66,  22, 178,\n        144, 133,  44, 100,  33, 255, 106, 108, 242, 214,  56, 100, 108,\n        242,  18, 166,  17,  99, 147,  71,  30,  99, 147,  91, 118,  35,\n        140,  93,  46,  49, 118,  97, 236, 114, 137, 177, 139, 113, 200,\n         79, 140,  93, 140,  83,  78,  49,  14,  49,  78,  57, 132, 177,\n        139, 241, 147, 175,  24, 151, 124, 196, 184, 229,  35, 198,  45,\n        111,  49,  30, 121, 137, 241, 146,  71, 140, 183, 220,  98, 124,\n        228,  18, 198,  71,  46,  49, 190, 114, 137, 241, 149, 133,  44,\n        252,   1, 249,  16,  29,  29,  77,  84, 130,  21,   0,   0,   0,\n          0,  73,  69,  78,  68, 174,  66,  96, 130], dtype=uint8))"
     },
     "execution_count": 11,
     "metadata": {},
     "output_type": "execute_result"
    }
   ],
   "source": [
    "import cv2\n",
    "\n",
    "cv2.imencode('.png', img[0].reshape(28, 28))"
   ],
   "metadata": {
    "collapsed": false,
    "pycharm": {
     "name": "#%%\n"
    }
   }
  },
  {
   "cell_type": "code",
   "execution_count": null,
   "outputs": [],
   "source": [],
   "metadata": {
    "collapsed": false,
    "pycharm": {
     "name": "#%%\n"
    }
   }
  }
 ],
 "metadata": {
  "kernelspec": {
   "display_name": "Python 3",
   "language": "python",
   "name": "python3"
  },
  "language_info": {
   "codemirror_mode": {
    "name": "ipython",
    "version": 2
   },
   "file_extension": ".py",
   "mimetype": "text/x-python",
   "name": "python",
   "nbconvert_exporter": "python",
   "pygments_lexer": "ipython2",
   "version": "2.7.6"
  }
 },
 "nbformat": 4,
 "nbformat_minor": 0
}